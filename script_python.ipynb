{
 "cells": [
  {
   "cell_type": "code",
   "execution_count": 121,
   "metadata": {},
   "outputs": [],
   "source": [
    "import parselmouth\n",
    "import textgrids\n",
    "from matplotlib import pyplot\n",
    "from parselmouth.praat import call"
   ]
  },
  {
   "cell_type": "code",
   "execution_count": 122,
   "metadata": {},
   "outputs": [],
   "source": [
    "# les phrases au choix pour synthétiser\n",
    "phrase_choix = input(\"Voulez-vous synthétiser quelle phrase :\\n 1 : Le cours de master un plurital de monsieur gendrot est très intéressant \\n 2 : Le cours de master un plurital de madame taravella est très difficile \\n 3: Je suis un étudiant chinois qui vient de Paris trois \\n 4: L'acquisition du langage chez l'enfant est un sujet intéressant \\n 5: Les enfants qui jouent avec les chiens sont très mignons\")\n",
    "phrases = {\"1\":\"Le cours de master un plurital de monsieur gendrot est très intéressant\",\n",
    "           \"2\":\"Le cours de master un plurital de madame taravella est très difficile\",\n",
    "           \"3\":\"Je suis un étudiant chinois qui vient de Paris trois\",\n",
    "           \"4\":\"L'acquisition du langage chez l'enfant est un sujet intéressant\",\n",
    "           \"5\":\"Les enfants qui jouent avec les chiens sont très mignons\"}\n",
    "phrase = phrases[phrase_choix]"
   ]
  },
  {
   "cell_type": "code",
   "execution_count": 123,
   "metadata": {},
   "outputs": [
    {
     "name": "stdout",
     "output_type": "stream",
     "text": [
      "{'l@': <parselmouth.Sound object at 0x11a68ccf0>, 'd@': <parselmouth.Sound object at 0x10e4fe930>, 'ma': <parselmouth.Sound object at 0x10e4feb30>, 'tE': <parselmouth.Sound object at 0x10e4feab0>, 'R9~': <parselmouth.Sound object at 0x11a95f1f0>, 'ly': <parselmouth.Sound object at 0x10aaf6bb0>, 'Ri': <parselmouth.Sound object at 0x10d817230>, 'ta': <parselmouth.Sound object at 0x11a0aebb0>, 'm@': <parselmouth.Sound object at 0x10da6ce30>, 'j2': <parselmouth.Sound object at 0x10da6cdf0>, 'ZA~': <parselmouth.Sound object at 0x10e4fdf70>, 'Ro': <parselmouth.Sound object at 0x10e4fe330>, 'RE': <parselmouth.Sound object at 0x10e4fe670>, 'zE~': <parselmouth.Sound object at 0x10e4fe8b0>, 'Re': <parselmouth.Sound object at 0x10e4fe9f0>, 'sA~': <parselmouth.Sound object at 0x10e4fe870>, 'da': <parselmouth.Sound object at 0x10e4fea70>, 'Ra': <parselmouth.Sound object at 0x10e4fe230>, 'vE': <parselmouth.Sound object at 0x10e4fe5b0>, 'la': <parselmouth.Sound object at 0x10e4fe470>, 'di': <parselmouth.Sound object at 0x10e4fe2b0>, 'fi': <parselmouth.Sound object at 0x10e4fddf0>, 'si': <parselmouth.Sound object at 0x10e4fe1b0>, 'Z@': <parselmouth.Sound object at 0x10e4fdff0>, 'Hi': <parselmouth.Sound object at 0x10e4fdf30>, 'ne': <parselmouth.Sound object at 0x10da6cab0>, 'ty': <parselmouth.Sound object at 0x10fe4eaf0>, 'dy': <parselmouth.Sound object at 0x10e4fedf0>, 'Si': <parselmouth.Sound object at 0x10e4febb0>, 'wa': <parselmouth.Sound object at 0x10e4fe4b0>, 'ki': <parselmouth.Sound object at 0x10fe4dbb0>, 'jE~': <parselmouth.Sound object at 0x10fe4d8f0>, 'ku': <parselmouth.Sound object at 0x10fe4e230>, 'pa': <parselmouth.Sound object at 0x10fe4e6f0>, 'zi': <parselmouth.Sound object at 0x10fe4e130>, 'jO~': <parselmouth.Sound object at 0x10fe4d2f0>, 'lA~': <parselmouth.Sound object at 0x10fe4d1b0>, 'ga': <parselmouth.Sound object at 0x10fe4ddf0>, 'Se': <parselmouth.Sound object at 0x10fe4df70>, 'fA~': <parselmouth.Sound object at 0x10fe4d830>, 't9~': <parselmouth.Sound object at 0x10fe4db70>, 'sy': <parselmouth.Sound object at 0x10e4fde30>, 'ZE': <parselmouth.Sound object at 0x10fe4e8f0>, 'le': <parselmouth.Sound object at 0x10fe4e5f0>, 'zA~': <parselmouth.Sound object at 0x11a7d2d30>, 'Zu': <parselmouth.Sound object at 0x10fe4e670>, 'sO~': <parselmouth.Sound object at 0x10fe4ea70>, 'mi': <parselmouth.Sound object at 0x10fe4d230>, 'NO~': <parselmouth.Sound object at 0x10fe4def0>, '@k': <parselmouth.Sound object at 0x10fe4e930>, 'uR': <parselmouth.Sound object at 0x11a0fe730>, '@m': <parselmouth.Sound object at 0x11a937fb0>, 'as': <parselmouth.Sound object at 0x10fe4dab0>, 'ER': <parselmouth.Sound object at 0x11a95fcb0>, '9~p': <parselmouth.Sound object at 0x10e4feb70>, 'yR': <parselmouth.Sound object at 0x10e4fe570>, 'it': <parselmouth.Sound object at 0x10e4fe1f0>, 'al': <parselmouth.Sound object at 0x10fe4e3b0>, '@s': <parselmouth.Sound object at 0x10fe4d8b0>, '2Z': <parselmouth.Sound object at 0x10fe4e770>, 'A~d': <parselmouth.Sound object at 0x10e4feaf0>, 'Et': <parselmouth.Sound object at 0x10e4fe970>, 'Ez': <parselmouth.Sound object at 0x11a0fe930>, 'E~t': <parselmouth.Sound object at 0x11a4e7c70>, 'es': <parselmouth.Sound object at 0x11a4e7d70>, 'ad': <parselmouth.Sound object at 0x11a4e7f30>, 'am': <parselmouth.Sound object at 0x11a4e7ef0>, 'aR': <parselmouth.Sound object at 0x11a0fe4b0>, 'av': <parselmouth.Sound object at 0x10fe4d870>, 'El': <parselmouth.Sound object at 0x11a0fd7b0>, 'Ed': <parselmouth.Sound object at 0x11a0fd830>, 'if': <parselmouth.Sound object at 0x11a0fd9f0>, 'is': <parselmouth.Sound object at 0x11a0fd970>, 'il': <parselmouth.Sound object at 0x11a0fdf30>, '9~n': <parselmouth.Sound object at 0x11a0fddf0>, 'et': <parselmouth.Sound object at 0x10fe4e3f0>, 'yd': <parselmouth.Sound object at 0x11a0fe130>, 'A~S': <parselmouth.Sound object at 0x11a0fe9f0>, 'in': <parselmouth.Sound object at 0x11a0fea30>, 'ak': <parselmouth.Sound object at 0x11a0fee70>, 'iv': <parselmouth.Sound object at 0x11a0feef0>, 'E~d': <parselmouth.Sound object at 0x11a0fec70>, '@p': <parselmouth.Sound object at 0x11a0fe170>, 'iz': <parselmouth.Sound object at 0x11a0fdbb0>, 'O~d': <parselmouth.Sound object at 0x11a0fde30>, 'yl': <parselmouth.Sound object at 0x11a0fedf0>, 'A~g': <parselmouth.Sound object at 0x10fe4eb30>, 'aZ': <parselmouth.Sound object at 0x10e4fecf0>, 'el': <parselmouth.Sound object at 0x11a4e7bb0>, 'A~f': <parselmouth.Sound object at 0x11aa06d70>, '9~s': <parselmouth.Sound object at 0x11aa07bf0>, 'yZ': <parselmouth.Sound object at 0x11aa06530>, 'Rd': <parselmouth.Sound object at 0x11a8bf6f0>, 'st': <parselmouth.Sound object at 0x10fd10370>, 'pl': <parselmouth.Sound object at 0x10fd10330>, 'ld': <parselmouth.Sound object at 0x11a879a70>, 'sj': <parselmouth.Sound object at 0x11a4b8430>, 'dR': <parselmouth.Sound object at 0x11a77f970>, 'tR': <parselmouth.Sound object at 0x11aa06eb0>, 'mt': <parselmouth.Sound object at 0x11aa07a70>, 'sH': <parselmouth.Sound object at 0x11aa07730>, 'nw': <parselmouth.Sound object at 0x11aa074b0>, 'vj': <parselmouth.Sound object at 0x11aa07430>, 'tw': <parselmouth.Sound object at 0x11aa07370>, 'ZS': <parselmouth.Sound object at 0x11aa07130>, 'kl': <parselmouth.Sound object at 0x11aa07270>, 'Sj': <parselmouth.Sound object at 0x11aa070b0>, 'oE': <parselmouth.Sound object at 0x11aa07030>, 'aE': <parselmouth.Sound object at 0x11aa06cf0>, 'i9~': <parselmouth.Sound object at 0x11aa06b30>, 'iA~': <parselmouth.Sound object at 0x11a0febb0>, 'A~E': <parselmouth.Sound object at 0x11a2efa30>, 'EE~': <parselmouth.Sound object at 0x10fe01b70>, 'ua': <parselmouth.Sound object at 0x10d8e2470>, 'te': <parselmouth.Sound object at 0x10da82530>, 'ez': <parselmouth.Sound object at 0x11a7d24b0>, 'A~k': <parselmouth.Sound object at 0x10da82630>, 'iZ': <parselmouth.Sound object at 0x10da826b0>, 'Ek': <parselmouth.Sound object at 0x10da82770>, 'eS': <parselmouth.Sound object at 0x10da82830>, 'E~s': <parselmouth.Sound object at 0x11a7d2a70>, 'O~t': <parselmouth.Sound object at 0x11a7d2b70>, 'Em': <parselmouth.Sound object at 0x10da82b30>, 'iN': <parselmouth.Sound object at 0x11a7d2c70>, 'E9~': <parselmouth.Sound object at 0x10da82cf0>, '9~e': <parselmouth.Sound object at 0x10da82d70>, 'dj': <parselmouth.Sound object at 0x10da82e70>, 'Rw': <parselmouth.Sound object at 0x10abbb0b0>, 'eA~': <parselmouth.Sound object at 0x10da830f0>, 'jA~': <parselmouth.Sound object at 0x11a5ab170>}\n"
     ]
    }
   ],
   "source": [
    "son = 'logatomes.wav'\n",
    "grille = 'logatomes.TextGrid'\n",
    "chemin_synthese = f\"./phrase{phrase_choix}.wav\"\n",
    "\n",
    "# ouvrir le son\n",
    "sound = parselmouth.Sound(son)\n",
    "segmentation = textgrids.TextGrid(grille)\n",
    "\n",
    "#lire les diphones\n",
    "diphones = segmentation['Diphones']\n",
    "\n",
    "#rendre les valeurs de diphones dans un dictionnaires afin de mieux saisir les diphones cibles à l'avenir\n",
    "dic_diphones = {}\n",
    "for a in range(len(diphones)-1):\n",
    "    if diphones[a].text != \"\" and diphones[a+1].text != \"\": #chercher les diphones\n",
    "        milieu_phoneme1 = (diphones[a].xmin + diphones[a].xmax)/2\n",
    "        #cherher le point de croisement zéro le plus proche de son donné\n",
    "        milieu_phoneme1 = sound.get_nearest_zero_crossing(milieu_phoneme1,1)\n",
    "        \n",
    "        milieu_phoneme2 = (diphones[a+1].xmin + diphones[a+1].xmax)/2\n",
    "        milieu_phoneme2 = sound.get_nearest_zero_crossing(milieu_phoneme2,1)\n",
    "        \n",
    "        # extraire les sons de diphone\n",
    "        extrait = sound.extract_part(milieu_phoneme1, milieu_phoneme2, parselmouth.WindowShape.RECTANGULAR, 1, False)\n",
    "        \n",
    "\n",
    "\n",
    "        allongement = 1.5 # choisir allonger ou accélérer le son\n",
    "        \n",
    "        #manipuler l'hauteur et la durée\n",
    "        manipulation = call(extrait, \"To Manipulation\", 0.01, 80.43, 600) \n",
    "        duration_tier = call(manipulation, \"Extract duration tier\")  \n",
    "        call(duration_tier, \"Remove points between\", 0,extrait.duration) \n",
    "        call(duration_tier,\"Add point\", extrait.duration/2,allongement)\n",
    "        call([manipulation,duration_tier],\"Replace duration tier\") \n",
    "        extrait = call(manipulation,\"Get resynthesis (overlap-add)\")\n",
    "        \n",
    "        # créer un dictionnaire pour stoker les diphones comme clés，les sons comme valeurs\n",
    "        dic_diphones[diphones[a].text + diphones[a+1].text] = extrait\n",
    "\n",
    "\n",
    "print(dic_diphones)\n",
    "\n"
   ]
  },
  {
   "cell_type": "code",
   "execution_count": 124,
   "metadata": {},
   "outputs": [
    {
     "name": "stdout",
     "output_type": "stream",
     "text": [
      "9~\n",
      "lezA~fA~kiZuavEkleSjE~sO~tREmiNO~\n"
     ]
    }
   ],
   "source": [
    "# insérer le dictionnaire de phonétique pour obtenir les phonèmes de phrases\n",
    "dico = {}\n",
    "with open('dico_UTF8.txt', 'r') as file:\n",
    "    for line in file:\n",
    "        key, value = line.strip().split('\\t') \n",
    "        dico[key] = value\n",
    "print(dico['un'])\n",
    "\n",
    "\n",
    "#obtenir phonétique de la phrase à l'aide de dico_phonétique\n",
    "phrase_phonetique = []\n",
    "# transforme cette phrase en phonétique\n",
    "for key in phrase.split():\n",
    "    phrase_phonetique.append(dico[key])\n",
    "phrase_phonetique = \"\".join(phrase_phonetique)\n",
    "\n",
    "print(phrase_phonetique)"
   ]
  },
  {
   "cell_type": "code",
   "execution_count": 125,
   "metadata": {},
   "outputs": [
    {
     "name": "stdout",
     "output_type": "stream",
     "text": [
      "['le', 'ez', 'zA~', 'A~f', 'fA~', 'A~k', 'ki', 'iZ', 'Zu', 'ua', 'av', 'vE', 'Ek', 'kl', 'le', 'eS', 'Sj', 'jE~', 'E~s', 'sO~', 'O~t', 'tR', 'RE', 'Em', 'mi', 'iN', 'NO~']\n"
     ]
    }
   ],
   "source": [
    "# créer une fonction pour obtenir la liste de diphones\n",
    "# NB : pour certains phonemes comme A~, E~ etc, ils contient 2 caractères\n",
    "def extract_diphones(sequence):\n",
    "    phonemes = []\n",
    "    i = 0\n",
    "\n",
    "    # pourcourir phrase_phonetique\n",
    "    while i < len(sequence):\n",
    "        # Vérifier les phonèmes se terminant par `~``\n",
    "        if i + 1 < len(sequence) and sequence[i + 1] == '~':\n",
    "            phonemes.append(sequence[i:i + 2])\n",
    "            i += 2\n",
    "        else:\n",
    "            phonemes.append(sequence[i])\n",
    "            i += 1\n",
    "\n",
    "    # créer les diphones à partir des phonemes\n",
    "    diphones = []\n",
    "    for j in range(len(phonemes) - 1):\n",
    "        diphones.append(phonemes[j] + phonemes[j + 1])\n",
    "\n",
    "    return diphones\n",
    "\n",
    "# obtenir les diphones à l'aide de cette fonction\n",
    "diphones_list = extract_diphones(phrase_phonetique)\n",
    "print(diphones_list)\n"
   ]
  },
  {
   "cell_type": "code",
   "execution_count": 126,
   "metadata": {},
   "outputs": [
    {
     "name": "stdout",
     "output_type": "stream",
     "text": [
      "[<parselmouth.Sound object at 0x10fe4e5f0>, <parselmouth.Sound object at 0x11a7d24b0>, <parselmouth.Sound object at 0x11a7d2d30>, <parselmouth.Sound object at 0x11aa06d70>, <parselmouth.Sound object at 0x10fe4d830>, <parselmouth.Sound object at 0x10da82630>, <parselmouth.Sound object at 0x10fe4dbb0>, <parselmouth.Sound object at 0x10da826b0>, <parselmouth.Sound object at 0x10fe4e670>, <parselmouth.Sound object at 0x10d8e2470>, <parselmouth.Sound object at 0x10fe4d870>, <parselmouth.Sound object at 0x10e4fe5b0>, <parselmouth.Sound object at 0x10da82770>, <parselmouth.Sound object at 0x11aa07270>, <parselmouth.Sound object at 0x10fe4e5f0>, <parselmouth.Sound object at 0x10da82830>, <parselmouth.Sound object at 0x11aa070b0>, <parselmouth.Sound object at 0x10fe4d8f0>, <parselmouth.Sound object at 0x11a7d2a70>, <parselmouth.Sound object at 0x10fe4ea70>, <parselmouth.Sound object at 0x11a7d2b70>, <parselmouth.Sound object at 0x11aa06eb0>, <parselmouth.Sound object at 0x10e4fe670>, <parselmouth.Sound object at 0x10da82b30>, <parselmouth.Sound object at 0x10fe4d230>, <parselmouth.Sound object at 0x11a7d2c70>, <parselmouth.Sound object at 0x10fe4def0>]\n"
     ]
    }
   ],
   "source": [
    "#obtenir la liste des sons pour concaténer à partir de dico_diphones \n",
    "son_list=[]\n",
    "for i in range(len(diphones_list)):\n",
    "    son=dic_diphones[diphones_list[i]]\n",
    "    son_list.append(son)\n",
    "\n",
    "print(son_list)    "
   ]
  },
  {
   "cell_type": "code",
   "execution_count": 127,
   "metadata": {},
   "outputs": [],
   "source": [
    "# concaténer les sons et enregistrer\n",
    "son_concatene = parselmouth.praat.call(son_list, \"Concatenate\")\n",
    "son_concatene.save(chemin_synthese, \"WAV\")\n"
   ]
  }
 ],
 "metadata": {
  "kernelspec": {
   "display_name": "Python 3",
   "language": "python",
   "name": "python3"
  },
  "language_info": {
   "codemirror_mode": {
    "name": "ipython",
    "version": 3
   },
   "file_extension": ".py",
   "mimetype": "text/x-python",
   "name": "python",
   "nbconvert_exporter": "python",
   "pygments_lexer": "ipython3",
   "version": "3.11.5"
  }
 },
 "nbformat": 4,
 "nbformat_minor": 2
}
